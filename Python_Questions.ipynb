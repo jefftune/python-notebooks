{
 "cells": [
  {
   "cell_type": "markdown",
   "metadata": {},
   "source": [
    "## Python Questions"
   ]
  },
  {
   "cell_type": "markdown",
   "metadata": {},
   "source": [
    "### Question: What is Python really?\n",
    "\n",
    "#### Answer\n",
    "\n",
    "1. Python is an interpreted language. That means that, unlike languages like C and its variants, Python does not need to be compiled before it is run. Other interpreted languages include PHP and Ruby.\n",
    "1. Python is dynamically typed, this means that you don't need to state the types of variables when you declare them or anything like that. You can do things like `x=111` and then `x=\"I'm a string\"` without error.\n",
    "1. Python is well suited to object orientated programming in that it allows the definition of classes along with composition and inheritance. Python does not have access specifiers (like C++'s `public`, `private`), the justification for this point is given as \"we are all adults here\".\n",
    "1. In Python, functions are first-class objects. This means that they can be assigned to variables, returned from other functions and passed into functions. Classes are also first class objects.\n",
    "1. Writing Python code is quick but running it is often slower than compiled languages. Fortunately， Python allows the inclusion of C based extensions so bottlenecks can be optimised away and often are. The `numpy` package is a good example of this, it's really quite quick because a lot of the number crunching it does isn't actually done by Python.\n",
    "1. Python finds use in many spheres - web applications, automation, scientific modelling, big data applications and many more. It's also often used as \"glue\" code to get other languages and components to play nice."
   ]
  },
  {
   "cell_type": "markdown",
   "metadata": {},
   "source": [
    "### Question: Print Directory Contents"
   ]
  },
  {
   "cell_type": "code",
   "execution_count": 1,
   "metadata": {
    "collapsed": true
   },
   "outputs": [],
   "source": [
    "def print_directory_contents(sPath):\n",
    "    \"\"\"\n",
    "    This function takes the name of a directory \n",
    "    and prints out the paths files within that \n",
    "    directory as well as any files contained in \n",
    "    contained directories. \n",
    "\n",
    "    This function is similar to os.walk. Please don't\n",
    "    use os.walk in your answer. We are interested in your \n",
    "    ability to work with nested structures. \n",
    "    \"\"\"\n",
    "    import os                                       \n",
    "    for sChild in os.listdir(sPath):                \n",
    "        sChildPath = os.path.join(sPath, sChild)\n",
    "        if os.path.isdir(sChildPath):\n",
    "            print_directory_contents(sChildPath)\n",
    "        else:\n",
    "            print(sChildPath)\n"
   ]
  },
  {
   "cell_type": "code",
   "execution_count": 2,
   "metadata": {},
   "outputs": [
    {
     "name": "stdout",
     "output_type": "stream",
     "text": [
      "/Users/jefft\n"
     ]
    }
   ],
   "source": [
    "import pathlib\n",
    "home = str(pathlib.Path.home())\n",
    "print(home)"
   ]
  },
  {
   "cell_type": "code",
   "execution_count": 4,
   "metadata": {},
   "outputs": [
    {
     "name": "stdout",
     "output_type": "stream",
     "text": [
      "/Users/jefft/github/jefftune/python-notebooks\n"
     ]
    }
   ],
   "source": [
    "import os\n",
    "path = os.path.join(home, 'github', 'jefftune', 'python-notebooks')\n",
    "print(path)"
   ]
  },
  {
   "cell_type": "code",
   "execution_count": 5,
   "metadata": {},
   "outputs": [
    {
     "name": "stdout",
     "output_type": "stream",
     "text": [
      "/Users/jefft/github/jefftune/python-notebooks/.git/COMMIT_EDITMSG\n",
      "/Users/jefft/github/jefftune/python-notebooks/.git/config\n",
      "/Users/jefft/github/jefftune/python-notebooks/.git/description\n",
      "/Users/jefft/github/jefftune/python-notebooks/.git/FETCH_HEAD\n",
      "/Users/jefft/github/jefftune/python-notebooks/.git/HEAD\n",
      "/Users/jefft/github/jefftune/python-notebooks/.git/hooks/applypatch-msg.sample\n",
      "/Users/jefft/github/jefftune/python-notebooks/.git/hooks/commit-msg.sample\n",
      "/Users/jefft/github/jefftune/python-notebooks/.git/hooks/post-update.sample\n",
      "/Users/jefft/github/jefftune/python-notebooks/.git/hooks/pre-applypatch.sample\n",
      "/Users/jefft/github/jefftune/python-notebooks/.git/hooks/pre-commit.sample\n",
      "/Users/jefft/github/jefftune/python-notebooks/.git/hooks/pre-push.sample\n",
      "/Users/jefft/github/jefftune/python-notebooks/.git/hooks/pre-rebase.sample\n",
      "/Users/jefft/github/jefftune/python-notebooks/.git/hooks/prepare-commit-msg.sample\n",
      "/Users/jefft/github/jefftune/python-notebooks/.git/hooks/update.sample\n",
      "/Users/jefft/github/jefftune/python-notebooks/.git/index\n",
      "/Users/jefft/github/jefftune/python-notebooks/.git/info/exclude\n",
      "/Users/jefft/github/jefftune/python-notebooks/.git/logs/HEAD\n",
      "/Users/jefft/github/jefftune/python-notebooks/.git/logs/refs/heads/jefftune/generators\n",
      "/Users/jefft/github/jefftune/python-notebooks/.git/logs/refs/heads/jefftune/generators_yield\n",
      "/Users/jefft/github/jefftune/python-notebooks/.git/logs/refs/heads/jefftune/lambda_funcs_prime_numbers\n",
      "/Users/jefft/github/jefftune/python-notebooks/.git/logs/refs/heads/jefftune/slices\n",
      "/Users/jefft/github/jefftune/python-notebooks/.git/logs/refs/heads/master\n",
      "/Users/jefft/github/jefftune/python-notebooks/.git/logs/refs/remotes/origin/HEAD\n",
      "/Users/jefft/github/jefftune/python-notebooks/.git/logs/refs/remotes/origin/jefftune/generators\n",
      "/Users/jefft/github/jefftune/python-notebooks/.git/logs/refs/remotes/origin/jefftune/lambda_funcs_prime_numbers\n",
      "/Users/jefft/github/jefftune/python-notebooks/.git/logs/refs/remotes/origin/jefftune/slices\n",
      "/Users/jefft/github/jefftune/python-notebooks/.git/logs/refs/remotes/origin/master\n",
      "/Users/jefft/github/jefftune/python-notebooks/.git/objects/18/54f073440ae43f55833c57ca0f84c1620c2509\n",
      "/Users/jefft/github/jefftune/python-notebooks/.git/objects/19/070d8b737caf66e6c853fb924567cb1566e568\n",
      "/Users/jefft/github/jefftune/python-notebooks/.git/objects/32/6bee04e636fa35c01817bd179230ff3d9a3dbc\n",
      "/Users/jefft/github/jefftune/python-notebooks/.git/objects/34/9b395dc45592d96b87c3e2165a9bd8dff59a00\n",
      "/Users/jefft/github/jefftune/python-notebooks/.git/objects/3b/cb9a009727030c2dcf7de95f70a2bbafecc867\n",
      "/Users/jefft/github/jefftune/python-notebooks/.git/objects/40/7e0521082e592250e3f4089a980aa4c3e766a7\n",
      "/Users/jefft/github/jefftune/python-notebooks/.git/objects/44/6103ae973521a4e7b1d7a402953a668bc0077e\n",
      "/Users/jefft/github/jefftune/python-notebooks/.git/objects/44/dd7472031c14ea813fa07e6e2a41b35d12a2d5\n",
      "/Users/jefft/github/jefftune/python-notebooks/.git/objects/47/61aebb636fe6c4dc203ea5d156604ff980e4f3\n",
      "/Users/jefft/github/jefftune/python-notebooks/.git/objects/4e/26b39d20549c72181e675d05a28c434549d63c\n",
      "/Users/jefft/github/jefftune/python-notebooks/.git/objects/4f/1303846aaf164464aa08c4574e5c3427812a77\n",
      "/Users/jefft/github/jefftune/python-notebooks/.git/objects/5a/c4987b49f5a52a479ca7ecf3891dfb23aa33aa\n",
      "/Users/jefft/github/jefftune/python-notebooks/.git/objects/6a/50a19f0afd8d59d75a26d9e0d6107ad363d4b7\n",
      "/Users/jefft/github/jefftune/python-notebooks/.git/objects/6a/b539beb431b00aa5a56805616ab5f74be355db\n",
      "/Users/jefft/github/jefftune/python-notebooks/.git/objects/91/0c5f9285fb7351c40fb5194f2ced7702f64f59\n",
      "/Users/jefft/github/jefftune/python-notebooks/.git/objects/95/3bbf31d08093c70c22618110e9dfc734ea146b\n",
      "/Users/jefft/github/jefftune/python-notebooks/.git/objects/b7/6fece35db239aaab0afdc84dc402765670a830\n",
      "/Users/jefft/github/jefftune/python-notebooks/.git/objects/be/fca6a192fa1f0a603f0556bec3bfd4f0f4f49d\n",
      "/Users/jefft/github/jefftune/python-notebooks/.git/objects/de/86a06ef66bf0a631814f0deb5bd7e524072223\n",
      "/Users/jefft/github/jefftune/python-notebooks/.git/objects/e2/436d348006efe72c340426d76a155f06acc28f\n",
      "/Users/jefft/github/jefftune/python-notebooks/.git/objects/fb/0724d95279b2a77247444afc3da94522ccc673\n",
      "/Users/jefft/github/jefftune/python-notebooks/.git/objects/pack/pack-bc54269c456a7790660f4a8180fed9b000f3ed10.idx\n",
      "/Users/jefft/github/jefftune/python-notebooks/.git/objects/pack/pack-bc54269c456a7790660f4a8180fed9b000f3ed10.pack\n",
      "/Users/jefft/github/jefftune/python-notebooks/.git/ORIG_HEAD\n",
      "/Users/jefft/github/jefftune/python-notebooks/.git/packed-refs\n",
      "/Users/jefft/github/jefftune/python-notebooks/.git/refs/heads/jefftune/generators\n",
      "/Users/jefft/github/jefftune/python-notebooks/.git/refs/heads/jefftune/generators_yield\n",
      "/Users/jefft/github/jefftune/python-notebooks/.git/refs/heads/jefftune/lambda_funcs_prime_numbers\n",
      "/Users/jefft/github/jefftune/python-notebooks/.git/refs/heads/jefftune/slices\n",
      "/Users/jefft/github/jefftune/python-notebooks/.git/refs/heads/master\n",
      "/Users/jefft/github/jefftune/python-notebooks/.git/refs/remotes/origin/HEAD\n",
      "/Users/jefft/github/jefftune/python-notebooks/.git/refs/remotes/origin/jefftune/generators\n",
      "/Users/jefft/github/jefftune/python-notebooks/.git/refs/remotes/origin/jefftune/lambda_funcs_prime_numbers\n",
      "/Users/jefft/github/jefftune/python-notebooks/.git/refs/remotes/origin/jefftune/slices\n",
      "/Users/jefft/github/jefftune/python-notebooks/.git/refs/remotes/origin/master\n",
      "/Users/jefft/github/jefftune/python-notebooks/.gitignore\n",
      "/Users/jefft/github/jefftune/python-notebooks/.ipynb_checkpoints/Generators_Prime_Numbers-checkpoint.ipynb\n",
      "/Users/jefft/github/jefftune/python-notebooks/.ipynb_checkpoints/Lambda_Functions-checkpoint.ipynb\n",
      "/Users/jefft/github/jefftune/python-notebooks/.ipynb_checkpoints/Lambda_Functions_Strings-checkpoint.ipynb\n",
      "/Users/jefft/github/jefftune/python-notebooks/.ipynb_checkpoints/Prime_Numbers-checkpoint.ipynb\n",
      "/Users/jefft/github/jefftune/python-notebooks/.ipynb_checkpoints/Python_Questions-checkpoint.ipynb\n",
      "/Users/jefft/github/jefftune/python-notebooks/.ipynb_checkpoints/Python_yield_keyword_explained-checkpoint.ipynb\n",
      "/Users/jefft/github/jefftune/python-notebooks/.ipynb_checkpoints/Sequence_Type_List-checkpoint.ipynb\n",
      "/Users/jefft/github/jefftune/python-notebooks/.ipynb_checkpoints/Sieve_of_Eratosthenes-checkpoint.ipynb\n",
      "/Users/jefft/github/jefftune/python-notebooks/.ipynb_checkpoints/Strings-checkpoint.ipynb\n",
      "/Users/jefft/github/jefftune/python-notebooks/.ipynb_checkpoints/Using_Lists-checkpoint.ipynb\n",
      "/Users/jefft/github/jefftune/python-notebooks/Generators_Prime_Numbers.ipynb\n",
      "/Users/jefft/github/jefftune/python-notebooks/Lambda_Functions.ipynb\n",
      "/Users/jefft/github/jefftune/python-notebooks/Lambda_Functions_Strings.ipynb\n",
      "/Users/jefft/github/jefftune/python-notebooks/LICENSE\n",
      "/Users/jefft/github/jefftune/python-notebooks/Prime_Numbers.ipynb\n",
      "/Users/jefft/github/jefftune/python-notebooks/Python_Questions.ipynb\n",
      "/Users/jefft/github/jefftune/python-notebooks/Python_yield_keyword_explained.ipynb\n",
      "/Users/jefft/github/jefftune/python-notebooks/README.md\n",
      "/Users/jefft/github/jefftune/python-notebooks/Sequence_Type_List.ipynb\n",
      "/Users/jefft/github/jefftune/python-notebooks/Sieve_of_Eratosthenes.ipynb\n",
      "/Users/jefft/github/jefftune/python-notebooks/Strings.ipynb\n",
      "/Users/jefft/github/jefftune/python-notebooks/Using_Lists.ipynb\n"
     ]
    }
   ],
   "source": [
    "print_directory_contents(path)"
   ]
  },
  {
   "cell_type": "markdown",
   "metadata": {
    "collapsed": true
   },
   "source": [
    "### Question: Final Values\n",
    "\n",
    "```\n",
    "A0 = dict(zip(('a','b','c','d','e'),(1,2,3,4,5)))\n",
    "A1 = range(10)\n",
    "A2 = sorted([i for i in A1 if i in A0])\n",
    "A3 = sorted([A0[s] for s in A0])\n",
    "A4 = [i for i in A1 if i in A3]\n",
    "A5 = {i:i*i for i in A1}\n",
    "A6 = [[i,i*i] for i in A1]\n",
    "```"
   ]
  },
  {
   "cell_type": "code",
   "execution_count": 22,
   "metadata": {},
   "outputs": [
    {
     "name": "stdout",
     "output_type": "stream",
     "text": [
      "Help on class zip in module builtins:\n",
      "\n",
      "class zip(object)\n",
      " |  zip(iter1 [,iter2 [...]]) --> zip object\n",
      " |  \n",
      " |  Return a zip object whose .__next__() method returns a tuple where\n",
      " |  the i-th element comes from the i-th iterable argument.  The .__next__()\n",
      " |  method continues until the shortest iterable in the argument sequence\n",
      " |  is exhausted and then it raises StopIteration.\n",
      " |  \n",
      " |  Methods defined here:\n",
      " |  \n",
      " |  __getattribute__(self, name, /)\n",
      " |      Return getattr(self, name).\n",
      " |  \n",
      " |  __iter__(self, /)\n",
      " |      Implement iter(self).\n",
      " |  \n",
      " |  __new__(*args, **kwargs) from builtins.type\n",
      " |      Create and return a new object.  See help(type) for accurate signature.\n",
      " |  \n",
      " |  __next__(self, /)\n",
      " |      Implement next(self).\n",
      " |  \n",
      " |  __reduce__(...)\n",
      " |      Return state information for pickling.\n",
      "\n"
     ]
    }
   ],
   "source": [
    "help(zip)"
   ]
  },
  {
   "cell_type": "code",
   "execution_count": 12,
   "metadata": {},
   "outputs": [
    {
     "name": "stdout",
     "output_type": "stream",
     "text": [
      "{'a': 1, 'b': 2, 'c': 3, 'd': 4, 'e': 5}\n"
     ]
    }
   ],
   "source": [
    "A0 = dict(zip(('a','b','c','d','e'),(1,2,3,4,5)))\n",
    "print(A0)"
   ]
  },
  {
   "cell_type": "code",
   "execution_count": 13,
   "metadata": {},
   "outputs": [
    {
     "name": "stdout",
     "output_type": "stream",
     "text": [
      "[0, 1, 2, 3, 4, 5, 6, 7, 8, 9]\n"
     ]
    }
   ],
   "source": [
    "A1 = range(10)\n",
    "print(list(A1))"
   ]
  },
  {
   "cell_type": "code",
   "execution_count": 17,
   "metadata": {},
   "outputs": [
    {
     "name": "stdout",
     "output_type": "stream",
     "text": [
      "[]\n"
     ]
    }
   ],
   "source": [
    "A2 = sorted([i for i in A1 if i in A0])\n",
    "print(A2)"
   ]
  },
  {
   "cell_type": "code",
   "execution_count": 18,
   "metadata": {},
   "outputs": [
    {
     "name": "stdout",
     "output_type": "stream",
     "text": [
      "[1, 2, 3, 4, 5]\n"
     ]
    }
   ],
   "source": [
    "A3 = sorted([A0[s] for s in A0])\n",
    "print(A3)"
   ]
  },
  {
   "cell_type": "code",
   "execution_count": 19,
   "metadata": {},
   "outputs": [
    {
     "name": "stdout",
     "output_type": "stream",
     "text": [
      "[1, 2, 3, 4, 5]\n"
     ]
    }
   ],
   "source": [
    "A4 = [i for i in A1 if i in A3]\n",
    "print(A4)"
   ]
  },
  {
   "cell_type": "code",
   "execution_count": 20,
   "metadata": {},
   "outputs": [
    {
     "name": "stdout",
     "output_type": "stream",
     "text": [
      "{0: 0, 1: 1, 2: 4, 3: 9, 4: 16, 5: 25, 6: 36, 7: 49, 8: 64, 9: 81}\n"
     ]
    }
   ],
   "source": [
    "A5 = {i:i*i for i in A1}\n",
    "print(A5)"
   ]
  },
  {
   "cell_type": "code",
   "execution_count": 21,
   "metadata": {},
   "outputs": [
    {
     "name": "stdout",
     "output_type": "stream",
     "text": [
      "[[0, 0], [1, 1], [2, 4], [3, 9], [4, 16], [5, 25], [6, 36], [7, 49], [8, 64], [9, 81]]\n"
     ]
    }
   ],
   "source": [
    "A6 = [[i,i*i] for i in A1]\n",
    "print(A6)"
   ]
  },
  {
   "cell_type": "markdown",
   "metadata": {},
   "source": [
    "### Question: Multi-Threading\n",
    "\n",
    "Python and multi-threading. Is it a good idea? List some ways to get some Python code to run in a parallel way.\n",
    "\n",
    "#### Answer\n",
    "\n",
    "Python doesn't allow multi-threading in the truest sense of the word. It has a [multi-threading package](https://docs.python.org/3.6/library/threading.html) but if you want to multi-thread to speed your code up, then it's usually not a good idea to use it. Python has a construct called the [Global Interpreter Lock (GIL)](https://wiki.python.org/moin/GlobalInterpreterLock). The GIL makes sure that only one of your 'threads' can execute at any one time. A thread acquires the GIL, does a little work, then passes the GIL onto the next thread. This happens very quickly so to the human eye it may seem like your threads are executing in parallel, but they are really just taking turns using the same CPU core. All this GIL passing adds overhead to execution. This means that if you want to make your code run faster then using the threading package often isn't a good idea.\n",
    "\n",
    "There are reasons to use Python's threading package. If you want to run some things simultaneously, and efficiency is not a concern, then it's totally fine and convenient. Or if you are running code that needs to wait for something (like some IO) then it could make a lot of sense. But the threading library won't let you use extra CPU cores."
   ]
  },
  {
   "cell_type": "markdown",
   "metadata": {},
   "source": [
    "### Question: Code Output"
   ]
  },
  {
   "cell_type": "code",
   "execution_count": 31,
   "metadata": {
    "collapsed": true
   },
   "outputs": [],
   "source": [
    "def f(x,l=[]):\n",
    "    print(f'l_mem: {l}')\n",
    "    for i in range(x):\n",
    "        l.append(i*i)\n",
    "    print(l) "
   ]
  },
  {
   "cell_type": "markdown",
   "metadata": {},
   "source": [
    "The first function call should be fairly obvious, the loop appends 0 and then 1 to the empty list, `l`. `l` is a name for a variable that points to a list stored in memory."
   ]
  },
  {
   "cell_type": "code",
   "execution_count": 32,
   "metadata": {},
   "outputs": [
    {
     "name": "stdout",
     "output_type": "stream",
     "text": [
      "l_mem: []\n",
      "[0, 1]\n"
     ]
    }
   ],
   "source": [
    "f(2)"
   ]
  },
  {
   "cell_type": "markdown",
   "metadata": {},
   "source": [
    "The second call starts off by creating a new list in a new block of memory. l then refers to this new list. It then appends 0, 1 and 4 to this new list."
   ]
  },
  {
   "cell_type": "code",
   "execution_count": 33,
   "metadata": {},
   "outputs": [
    {
     "name": "stdout",
     "output_type": "stream",
     "text": [
      "l_mem: [3, 2, 1]\n",
      "[3, 2, 1, 0, 1, 4]\n"
     ]
    }
   ],
   "source": [
    "f(3, [3, 2, 1])"
   ]
  },
  {
   "cell_type": "markdown",
   "metadata": {},
   "source": [
    "The third function call is the weird one. It uses the original list stored in the original memory block. That is why it starts off with 0 and 1."
   ]
  },
  {
   "cell_type": "code",
   "execution_count": 34,
   "metadata": {},
   "outputs": [
    {
     "name": "stdout",
     "output_type": "stream",
     "text": [
      "l_mem: [0, 1]\n",
      "[0, 1, 0, 1, 4]\n"
     ]
    }
   ],
   "source": [
    "f(3)"
   ]
  },
  {
   "cell_type": "markdown",
   "metadata": {},
   "source": [
    "### Question: What is monkey patching?\n",
    "\n",
    "#### Answer\n",
    "[Monkey-patching](https://en.wikipedia.org/wiki/Monkey_patch) is the technique of swapping functions or methods with others in order to change a module, library or class behavior.\n",
    "\n",
    "There are some people with strong opinions about it. I haven’t, but it comes really useful when testing, to simulate side-effecting functions or to silence expected errors and warnings.\n",
    "\n",
    "#### Class methods \n",
    "\n",
    "Class method monkey patching in Python is really easy, as you can freely assign function to class method names:"
   ]
  },
  {
   "cell_type": "code",
   "execution_count": 1,
   "metadata": {},
   "outputs": [
    {
     "data": {
      "text/plain": [
       "6"
      ]
     },
     "execution_count": 1,
     "metadata": {},
     "output_type": "execute_result"
    }
   ],
   "source": [
    "class Class():\n",
    "    def add(self, x, y):\n",
    "        return x + y\n",
    "    \n",
    "inst = Class()\n",
    "inst.add(3, 3)"
   ]
  },
  {
   "cell_type": "code",
   "execution_count": 2,
   "metadata": {},
   "outputs": [
    {
     "data": {
      "text/plain": [
       "9"
      ]
     },
     "execution_count": 2,
     "metadata": {},
     "output_type": "execute_result"
    }
   ],
   "source": [
    "def not_exactly_add(self, x, y):\n",
    "    return x * y\n",
    "\n",
    "Class.add = not_exactly_add\n",
    "inst.add(3, 3)"
   ]
  },
  {
   "cell_type": "code",
   "execution_count": 3,
   "metadata": {},
   "outputs": [
    {
     "data": {
      "text/plain": [
       "6"
      ]
     },
     "execution_count": 3,
     "metadata": {},
     "output_type": "execute_result"
    }
   ],
   "source": [
    "import types\n",
    "class Class():\n",
    "    def add(self, x, y):\n",
    "        return x + y\n",
    "    def become_more_powerful(self):\n",
    "        old_add = self.add\n",
    "        def more_powerful_add(self, x, y):\n",
    "            return old_add(x, y) + 1\n",
    "        self.add = types.MethodType(more_powerful_add, self)\n",
    "\n",
    "inst = Class()\n",
    "inst.add(3, 3)"
   ]
  },
  {
   "cell_type": "code",
   "execution_count": 4,
   "metadata": {},
   "outputs": [
    {
     "data": {
      "text/plain": [
       "7"
      ]
     },
     "execution_count": 4,
     "metadata": {},
     "output_type": "execute_result"
    }
   ],
   "source": [
    "inst.become_more_powerful()\n",
    "inst.add(3, 3)"
   ]
  },
  {
   "cell_type": "markdown",
   "metadata": {},
   "source": [
    "### Question: What will be the output of the code below?"
   ]
  },
  {
   "cell_type": "code",
   "execution_count": 10,
   "metadata": {},
   "outputs": [
    {
     "name": "stdout",
     "output_type": "stream",
     "text": [
      "list1 = [10, 'a']\n",
      "list2 = [123]\n",
      "list3 = [10, 'a']\n"
     ]
    }
   ],
   "source": [
    "def extendList(val, list=[]):\n",
    "    list.append(val)\n",
    "    return list\n",
    "\n",
    "list1 = extendList(10)\n",
    "list2 = extendList(123,[])\n",
    "list3 = extendList('a')\n",
    "\n",
    "print(\"list1 = %s\" % list1)\n",
    "print(\"list2 = %s\" % list2)\n",
    "print(\"list3 = %s\" % list3)"
   ]
  },
  {
   "cell_type": "markdown",
   "metadata": {},
   "source": [
    "Many will mistakenly expect `list1` to be equal to `[10]` and `list3` to be equal to `['a']`, thinking that the list argument will be set to its default value of `[]` each time `extendList` is called.\n",
    "\n",
    "However, what actually happens is that the new default list is created only once when the function is defined, and that same list is then used subsequently whenever `extendList` is invoked without a list argument being specified. This is because expressions in default arguments are calculated when the function is defined, not when it’s called.\n",
    "\n",
    "`list1` and `list3` are therefore operating on the same default list, whereas list2 is operating on a separate list that it created (by passing its own empty list as the value for the list parameter)."
   ]
  },
  {
   "cell_type": "markdown",
   "metadata": {},
   "source": [
    "The definition of the `extendList` function could be modified as follows, though, to always begin a new `list` when no list argument is specified, which is more likely to have been the desired behavior:"
   ]
  },
  {
   "cell_type": "code",
   "execution_count": 11,
   "metadata": {},
   "outputs": [
    {
     "name": "stdout",
     "output_type": "stream",
     "text": [
      "list1 = [10]\n",
      "list2 = [123]\n",
      "list3 = ['a']\n"
     ]
    }
   ],
   "source": [
    "def extendList(val, list=None):\n",
    "    if list is None:\n",
    "        list = []\n",
    "    list.append(val)\n",
    "    return list\n",
    "\n",
    "list1 = extendList(10)\n",
    "list2 = extendList(123,[])\n",
    "list3 = extendList('a')\n",
    "\n",
    "print(\"list1 = %s\" % list1)\n",
    "print(\"list2 = %s\" % list2)\n",
    "print(\"list3 = %s\" % list3)"
   ]
  },
  {
   "cell_type": "markdown",
   "metadata": {},
   "source": [
    "### Question: What will be the output of the code below?"
   ]
  },
  {
   "cell_type": "code",
   "execution_count": 13,
   "metadata": {},
   "outputs": [
    {
     "name": "stdout",
     "output_type": "stream",
     "text": [
      "[6, 6, 6, 6]\n"
     ]
    }
   ],
   "source": [
    "def multipliers():\n",
    "  return [lambda x : i * x for i in range(4)]\n",
    "    \n",
    "print([m(2) for m in multipliers()])"
   ]
  },
  {
   "cell_type": "markdown",
   "metadata": {},
   "source": [
    "The reason for this is that Python’s closures are [late binding](https://en.wikipedia.org/wiki/Late_binding). This means that the values of variables used in closures are looked up at the time the inner function is called. So as a result, when any of the functions returned by `multipliers()` are called, the value of `i` is looked up in the surrounding scope at that time. By then, regardless of which of the returned functions is called, the for loop has completed and `i` is left with its final value of 3. Therefore, every returned function multiplies the value it is passed by 3, so since a value of 2 is passed in the above code, they all return a value of 6 (i.e., 3 x 2)."
   ]
  },
  {
   "cell_type": "markdown",
   "metadata": {},
   "source": [
    "One solution would be use a [Python generator](https://wiki.python.org/moin/Generators) as follows:"
   ]
  },
  {
   "cell_type": "code",
   "execution_count": 21,
   "metadata": {},
   "outputs": [
    {
     "name": "stdout",
     "output_type": "stream",
     "text": [
      "[0, 2, 4, 6]\n"
     ]
    }
   ],
   "source": [
    "def multipliers():\n",
    "  for i in range(4): yield lambda x : i * x \n",
    "\n",
    "print([m(2) for m in multipliers()])"
   ]
  },
  {
   "cell_type": "markdown",
   "metadata": {},
   "source": [
    "Another solution is to create a closure that binds immediately to its arguments by using a default argument. For example:"
   ]
  },
  {
   "cell_type": "code",
   "execution_count": 22,
   "metadata": {},
   "outputs": [
    {
     "name": "stdout",
     "output_type": "stream",
     "text": [
      "[0, 2, 4, 6]\n"
     ]
    }
   ],
   "source": [
    "def multipliers():\n",
    "  return [lambda x, i=i : i * x for i in range(4)]\n",
    "\n",
    "print([m(2) for m in multipliers()])"
   ]
  },
  {
   "cell_type": "markdown",
   "metadata": {},
   "source": [
    "Or alternatively, you can use the `functools.partial` function:"
   ]
  },
  {
   "cell_type": "code",
   "execution_count": 23,
   "metadata": {},
   "outputs": [
    {
     "name": "stdout",
     "output_type": "stream",
     "text": [
      "[0, 2, 4, 6]\n"
     ]
    }
   ],
   "source": [
    "from functools import partial\n",
    "from operator import mul\n",
    "\n",
    "def multipliers():\n",
    "  return [partial(mul, i) for i in range(4)]\n",
    "\n",
    "print([m(2) for m in multipliers()])"
   ]
  },
  {
   "cell_type": "markdown",
   "metadata": {},
   "source": [
    "### Question: What will be the output of the code below?"
   ]
  },
  {
   "cell_type": "code",
   "execution_count": 25,
   "metadata": {},
   "outputs": [
    {
     "name": "stdout",
     "output_type": "stream",
     "text": [
      "1 1 1\n",
      "1 2 1\n",
      "3 2 3\n"
     ]
    }
   ],
   "source": [
    "class Parent(object):\n",
    "    x = 1\n",
    "\n",
    "class Child1(Parent):\n",
    "    pass\n",
    "\n",
    "class Child2(Parent):\n",
    "    pass\n",
    "\n",
    "print(Parent.x, Child1.x, Child2.x)\n",
    "Child1.x = 2\n",
    "print(Parent.x, Child1.x, Child2.x)\n",
    "Parent.x = 3\n",
    "print(Parent.x, Child1.x, Child2.x)"
   ]
  },
  {
   "cell_type": "markdown",
   "metadata": {},
   "source": [
    "What confuses or surprises many about this is that the last line of output is `3 2 3` rather than `3 2 1`. Why does changing the value of `Parent.x` also change the value of `Child2.x`, but at the same time not change the value of `Child1.x`?\n",
    "\n",
    "The key to the answer is that, in Python, class variables are internally handled as dictionaries. If a variable name is not found in the dictionary of the current class, the class hierarchy (i.e., its parent classes) are searched until the referenced variable name is found (if the referenced variable name is not found in the class itself or anywhere in its hierarchy, an `AttributeError` occurs).\n",
    "\n",
    "Therefore, setting `x = 1` in the Parent class makes the class variable x (with a value of 1) referenceable in that class and any of its children. That’s why the first print statement outputs `1 1 1`.\n",
    "\n",
    "Subsequently, if any of its child classes overrides that value (for example, when we execute the statement `Child1.x = 2`), then the value is changed in that child only. That’s why the second print statement outputs `1 2 1`.\n",
    "\n",
    "Finally, if the value is then changed in the Parent (for example, when we execute the statement `Parent.x = 3`), that change is reflected also by any children that have not yet overridden the value (which in this case would be `Child2`). That’s why the third print statement outputs `3 2 3`."
   ]
  },
  {
   "cell_type": "markdown",
   "metadata": {},
   "source": [
    "### Question: What will be the output of the code below?"
   ]
  },
  {
   "cell_type": "code",
   "execution_count": 26,
   "metadata": {},
   "outputs": [
    {
     "name": "stdout",
     "output_type": "stream",
     "text": [
      "5/2 = 2.5\n",
      "5.0/2 = 2.5\n",
      "5//2 = 2\n",
      "5.0//2.0 = 2.0\n"
     ]
    }
   ],
   "source": [
    "def division(x,y):\n",
    "    print(\"%s/%s = %s\" % (x, y, x/y))\n",
    "    \n",
    "def floor_division(x,y):\n",
    "    print(\"%s//%s = %s\" % (x, y, x//y))\n",
    "\n",
    "division(5, 2)\n",
    "division(5., 2)\n",
    "floor_division(5, 2)\n",
    "floor_division(5., 2.)"
   ]
  },
  {
   "cell_type": "markdown",
   "metadata": {},
   "source": [
    "### Question: What will be the output of the code below?"
   ]
  },
  {
   "cell_type": "code",
   "execution_count": 28,
   "metadata": {},
   "outputs": [
    {
     "name": "stdout",
     "output_type": "stream",
     "text": [
      "[]\n"
     ]
    }
   ],
   "source": [
    "list = ['a', 'b', 'c', 'd', 'e']\n",
    "print(list[10:])"
   ]
  },
  {
   "cell_type": "markdown",
   "metadata": {},
   "source": [
    "The above code will output `[]`, and will not result in an `IndexError`.\n",
    "\n",
    "As one would expect, attempting to access a member of a list using an index that exceeds the number of members (e.g., attempting to access `list[10]` in the list above) results in an `IndexError`. However, attempting to access a slice of a list at a starting index that exceeds the number of members in the list will not result in an IndexError and will simply return an empty list.\n",
    "\n",
    "What makes this a particularly nasty gotcha is that it can lead to bugs that are really hard to track down since no error is raised at runtime."
   ]
  },
  {
   "cell_type": "markdown",
   "metadata": {},
   "source": [
    "### Question: What will be the output of the code below?"
   ]
  },
  {
   "cell_type": "code",
   "execution_count": 34,
   "metadata": {},
   "outputs": [
    {
     "data": {
      "text/plain": [
       "[[], [], [], [], []]"
      ]
     },
     "execution_count": 34,
     "metadata": {},
     "output_type": "execute_result"
    }
   ],
   "source": [
    "list = [ [ ] ] * 5\n",
    "list"
   ]
  },
  {
   "cell_type": "markdown",
   "metadata": {},
   "source": [
    "The first line of output is presumably intuitive and easy to understand; i.e., `list = [ [ ] ] * 5` simply creates a list of 5 lists.\n",
    "\n",
    "However, the key thing to understand here is that the statement `list = [ [ ] ] * 5` does NOT create a list containing 5 distinct lists; rather, it creates a a list of 5 references to the same list. With this understanding, we can better understand the rest of the output."
   ]
  },
  {
   "cell_type": "code",
   "execution_count": 30,
   "metadata": {},
   "outputs": [
    {
     "data": {
      "text/plain": [
       "[[10], [10], [10], [10], [10]]"
      ]
     },
     "execution_count": 30,
     "metadata": {},
     "output_type": "execute_result"
    }
   ],
   "source": [
    "list[0].append(10)\n",
    "list"
   ]
  },
  {
   "cell_type": "markdown",
   "metadata": {},
   "source": [
    "`list[0].append(10)` appends `10` to the first list. But since all 5 lists refer to the same list."
   ]
  },
  {
   "cell_type": "code",
   "execution_count": 31,
   "metadata": {},
   "outputs": [
    {
     "data": {
      "text/plain": [
       "[[10, 20], [10, 20], [10, 20], [10, 20], [10, 20]]"
      ]
     },
     "execution_count": 31,
     "metadata": {},
     "output_type": "execute_result"
    }
   ],
   "source": [
    "list[1].append(20)\n",
    "list"
   ]
  },
  {
   "cell_type": "markdown",
   "metadata": {},
   "source": [
    "Similarly, `list[1].append(20)` appends `20` to the second list. But again, since all 5 lists refer to the same list."
   ]
  },
  {
   "cell_type": "code",
   "execution_count": 32,
   "metadata": {},
   "outputs": [
    {
     "data": {
      "text/plain": [
       "[[10, 20], [10, 20], [10, 20], [10, 20], [10, 20], 30]"
      ]
     },
     "execution_count": 32,
     "metadata": {},
     "output_type": "execute_result"
    }
   ],
   "source": [
    "list.append(30)\n",
    "list"
   ]
  },
  {
   "cell_type": "markdown",
   "metadata": {},
   "source": [
    "In contrast, list.append(30) is appending an entirely new element to the “outer” list"
   ]
  },
  {
   "cell_type": "markdown",
   "metadata": {},
   "source": [
    "### Problem: Find even values within even indexes\n",
    "\n",
    "Given a list of N numbers, use a single list comprehension to produce a new list that only contains those values that are:\n",
    "(a) even numbers, and\n",
    "(b) from elements in the original list that had even indices\n",
    "\n",
    "For example, if list[2] contains a value that is even, that value should be included in the new list, since it is also at an even index (i.e., 2) in the original list. However, if list[3] contains an even number, that number should not be included in the new list since it is at an odd index (i.e., 3) in the original list."
   ]
  },
  {
   "cell_type": "code",
   "execution_count": 37,
   "metadata": {},
   "outputs": [
    {
     "name": "stdout",
     "output_type": "stream",
     "text": [
      "[10, 18, 78]\n"
     ]
    }
   ],
   "source": [
    "def even_index_even_value(list):\n",
    "    # The expression works by first taking the numbers that are at the even indices, \n",
    "    # and then filtering out all the odd numbers.\n",
    "    return [x for x in list[::2] if x%2 == 0]\n",
    "\n",
    "#        0   1   2   3    4    5    6    7    8\n",
    "list = [ 1 , 3 , 5 , 8 , 10 , 13 , 18 , 36 , 78 ]\n",
    "\n",
    "print(even_index_even_value(list))"
   ]
  },
  {
   "cell_type": "markdown",
   "metadata": {},
   "source": [
    "### Problem: Will this code work?"
   ]
  },
  {
   "cell_type": "code",
   "execution_count": 41,
   "metadata": {},
   "outputs": [
    {
     "name": "stdout",
     "output_type": "stream",
     "text": [
      "{'foo': 127}\n"
     ]
    }
   ],
   "source": [
    "class DefaultDict(dict):\n",
    "    def __missing__(self, key):\n",
    "        newval = []\n",
    "        self[key] = newval\n",
    "        return newval\n",
    "    \n",
    "d = DefaultDict()\n",
    "d['foo'] = 127\n",
    "print(d)"
   ]
  },
  {
   "cell_type": "code",
   "execution_count": 42,
   "metadata": {},
   "outputs": [
    {
     "name": "stdout",
     "output_type": "stream",
     "text": [
      "127\n"
     ]
    }
   ],
   "source": [
    "print(d['foo'])"
   ]
  },
  {
   "cell_type": "markdown",
   "metadata": {},
   "source": [
    "### Problem: How do you list the functions in a module?\n",
    "\n",
    "Use the `dir()` method to list the functions in a module."
   ]
  },
  {
   "cell_type": "code",
   "execution_count": 43,
   "metadata": {},
   "outputs": [
    {
     "name": "stdout",
     "output_type": "stream",
     "text": [
      "['ConnectTimeout', 'ConnectionError', 'DependencyWarning', 'FileModeWarning', 'HTTPError', 'NullHandler', 'PreparedRequest', 'ReadTimeout', 'Request', 'RequestException', 'Response', 'Session', 'Timeout', 'TooManyRedirects', 'URLRequired', '__author__', '__build__', '__builtins__', '__cached__', '__copyright__', '__doc__', '__file__', '__license__', '__loader__', '__name__', '__package__', '__path__', '__spec__', '__title__', '__version__', '_internal_utils', 'adapters', 'api', 'auth', 'certs', 'codes', 'compat', 'cookies', 'delete', 'exceptions', 'get', 'head', 'hooks', 'logging', 'models', 'options', 'packages', 'patch', 'post', 'put', 'pyopenssl', 'request', 'session', 'sessions', 'status_codes', 'structures', 'utils', 'warnings']\n"
     ]
    }
   ],
   "source": [
    "import requests\n",
    "print(dir(requests))"
   ]
  },
  {
   "cell_type": "code",
   "execution_count": null,
   "metadata": {
    "collapsed": true
   },
   "outputs": [],
   "source": []
  }
 ],
 "metadata": {
  "kernelspec": {
   "display_name": "Python 3",
   "language": "python",
   "name": "python3"
  },
  "language_info": {
   "codemirror_mode": {
    "name": "ipython",
    "version": 3
   },
   "file_extension": ".py",
   "mimetype": "text/x-python",
   "name": "python",
   "nbconvert_exporter": "python",
   "pygments_lexer": "ipython3",
   "version": "3.6.1"
  }
 },
 "nbformat": 4,
 "nbformat_minor": 2
}
