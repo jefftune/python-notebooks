{
 "cells": [
  {
   "cell_type": "markdown",
   "metadata": {
    "collapsed": true
   },
   "source": [
    "## Sieve of Eratosthenes\n",
    "\n",
    "In mathematics, the sieve of Eratosthenes is a simple, ancient algorithm for finding all prime numbers up to any given limit.\n",
    "\n",
    "It does so by iteratively marking as composite (i.e., not prime) the multiples of each prime, starting with the first prime number, 2. The multiples of a given prime are generated as a sequence of numbers starting from that prime, with constant difference between them that is equal to that prime. This is the sieve's key distinction from using trial division to sequentially test each candidate number for divisibility by each prime\n",
    "\n",
    "[Wikipedia](https://en.wikipedia.org/wiki/Sieve_of_Eratosthenes)"
   ]
  },
  {
   "cell_type": "code",
   "execution_count": 11,
   "metadata": {
    "collapsed": true
   },
   "outputs": [],
   "source": [
    "# Sieve of Eratosthenes\n",
    "# Code by David Eppstein, UC Irvine, 28 Feb 2002\n",
    "# http://code.activestate.com/recipes/117119/\n",
    "\n",
    "def gen_primes():\n",
    "    \"\"\" Generate an infinite sequence of prime numbers.\n",
    "    \"\"\"\n",
    "    # Maps composites to primes witnessing their compositeness.\n",
    "    # This is memory efficient, as the sieve is not \"run forward\"\n",
    "    # indefinitely, but only as long as required by the current\n",
    "    # number being tested.\n",
    "    #\n",
    "    D = {}\n",
    "    \n",
    "    # The running integer that's checked for primeness\n",
    "    q = 2\n",
    "    \n",
    "    while True:\n",
    "        if q not in D:\n",
    "            # q is a new prime.\n",
    "            # Yield it and mark its first multiple that isn't\n",
    "            # already marked in previous iterations\n",
    "            # \n",
    "            yield q\n",
    "            D[q * q] = [q]\n",
    "        else:\n",
    "            # q is composite. D[q] is the list of primes that\n",
    "            # divide it. Since we've reached q, we no longer\n",
    "            # need it in the map, but we'll mark the next \n",
    "            # multiples of its witnesses to prepare for larger\n",
    "            # numbers\n",
    "            # \n",
    "            for p in D[q]:\n",
    "                D.setdefault(p + q, []).append(p)\n",
    "            del D[q]\n",
    "        \n",
    "        q += 1"
   ]
  },
  {
   "cell_type": "code",
   "execution_count": 12,
   "metadata": {},
   "outputs": [
    {
     "name": "stdout",
     "output_type": "stream",
     "text": [
      "[2, 3, 5, 7, 11, 13, 17, 19, 23, 29, 31, 37, 41, 43, 47, 53, 59, 61, 67, 71, 73, 79, 83, 89, 97, 101, 103, 107, 109, 113, 127, 131, 137, 139, 149, 151, 157, 163, 167, 173, 179, 181, 191, 193, 197, 199, 211, 223, 227, 229, 233, 239, 241, 251, 257, 263, 269, 271, 277, 281, 283, 293, 307, 311, 313, 317, 331, 337, 347, 349, 353, 359, 367, 373, 379, 383, 389, 397, 401, 409, 419, 421, 431, 433, 439, 443, 449, 457, 461, 463, 467, 479, 487, 491, 499, 503, 509, 521, 523, 541, 547, 557, 563, 569, 571, 577, 587, 593, 599, 601, 607, 613, 617, 619, 631, 641, 643, 647, 653, 659, 661, 673, 677, 683, 691, 701, 709, 719, 727, 733, 739, 743, 751, 757, 761, 769, 773, 787, 797, 809, 811, 821, 823, 827, 829, 839, 853, 857, 859, 863, 877, 881, 883, 887, 907, 911, 919, 929, 937, 941, 947, 953, 967, 971, 977, 983, 991, 997]\n"
     ]
    }
   ],
   "source": [
    "import itertools as it\n",
    "\n",
    "# Request next prime from generator until value exceeds 1000.\n",
    "primes = []\n",
    "for q in it.takewhile(lambda x: x < 1000, gen_primes()):\n",
    "    primes.append(q)\n",
    "    \n",
    "print(primes)"
   ]
  },
  {
   "cell_type": "code",
   "execution_count": null,
   "metadata": {
    "collapsed": true
   },
   "outputs": [],
   "source": []
  }
 ],
 "metadata": {
  "kernelspec": {
   "display_name": "Python 3",
   "language": "python",
   "name": "python3"
  },
  "language_info": {
   "codemirror_mode": {
    "name": "ipython",
    "version": 3
   },
   "file_extension": ".py",
   "mimetype": "text/x-python",
   "name": "python",
   "nbconvert_exporter": "python",
   "pygments_lexer": "ipython3",
   "version": "3.6.1"
  }
 },
 "nbformat": 4,
 "nbformat_minor": 2
}
